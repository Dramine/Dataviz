{
 "cells": [
  {
   "cell_type": "code",
   "execution_count": 1,
   "metadata": {},
   "outputs": [],
   "source": [
    "import pandas as pd"
   ]
  },
  {
   "cell_type": "code",
   "execution_count": 35,
   "id": "27bf8e98",
   "metadata": {},
   "outputs": [],
   "source": [
    "cameo = pd.read_csv('./data/cameo.csv', sep=';')\n",
    "header = pd.read_csv('./data/CSV.header.fieldids.csv', sep=';', header=0)\n",
    "data = pd.read_csv('./data/export_200k.csv', sep='\\t', header=None, names=header['Field Name'].tolist())"
   ]
  },
  {
   "cell_type": "markdown",
   "id": "88c5cbd1",
   "metadata": {},
   "source": [
    "# Gdelt project\n",
    "- [Documentation officiel](http://data.gdeltproject.org/documentation/GDELT-Event_Codebook-V2.0.pdf)\n",
    "- [Documentation cameo code](https://www.gdeltproject.org/data/documentation/CAMEO.Manual.1.1b3.pdf)\n",
    "\n",
    "En gros le projet les mec ils font du nlp sur toute les news qui il y dans le monde il les trie, et les classe...\n",
    "Ca donne les colonnes en dessous.  \n",
    "pour moi on peut supprimer les collones:   \n",
    "- Actor1EthnicCode, Actor1Religion1Code, Actor1Religion2Code (idem pour actor 2)\n",
    "\n",
    "### Actor attributes\n",
    "- ActorCode: Cameo code of actor  (includes geographic, class, ethnic, religious, and type classes)\n",
    "- ActorName\n",
    "- CountryCode The 3-character CAMEO code for the country affiliation of Actor1\n",
    "- ActorKnownGroupCode\n",
    "- ActorEthnicCode\n",
    "- ActorReligionCode\n",
    "- ActorTypeCodehe 3-character CAMEO code of the CAMEO “type” or “role” of Actor1, if specified. This can be a specific role such as Police Forces, Government, Military, Political Opposition, Rebels.\n",
    "### Event attributes\n",
    "- IsRootEvent Les evenement sont tirés d'article, isRootEvent c'est pour indiquer si l'evenement apparait dans le titre/premier paragraphe ( l'importance de l'evenement)\n",
    "- EventCode CAMEO CODE\n",
    "- EventBaseCode: 3 niveau: exemple:\n",
    "  -  \"0251\" (“Appeal for easing of administrative sanctions”) \n",
    "  -  \"025\" \"Appeal to yield\"\n",
    "- EventRootCode similar to EventBaseCode\n",
    "Pour resumé c'est des niveau de détails EventCode > EventBaseCode > EventRootCode\n",
    "- QuadClass (Tout les evenement cameo sont reunis en 4 classe principal):\n",
    "  - Verbal Cooperation\n",
    "   - Material Cooperation\n",
    "   - Verbal Conflict\n",
    "   - Material Conflict\n",
    "- GoldsteinScale (float) [-10, 10] indice théorique de l'impact d'un evenement sur la stabilité d'un pays (NOTE: this score is based on the type of event, not the specifics of the actual event record being recorded – thus two riots, one with 10 people and one with 10,000, will both receive the same Goldstein score)\n",
    "- NumMentions Le nombre de fois que l'evenemenent est mentionnée dans les 15 minutes après sa premières mention.\n",
    "- NumSource Le nombre de source dans lequel l'event est mentionné dans les 15 minutes\n",
    "- NumArticle Le nombre d'article dans lequel l'evenement apparait dans les 15 minutes\n",
    "- AvgTone [-100, 100] 0 neutral, en general entre [-10, 10] Le sentiment moyen des documents au moins une mention de l'evenement dans les 15 minutes \n",
    "\n",
    "### GeoCode\n",
    "- ActorGeoType 5 possible values\n",
    "   - 1 => Country\n",
    "   - 2 => Us state\n",
    "   - 3 => Us city\n",
    "   - 4 => World city\n",
    "   - 5 => World state (organization equivalent to usa)\n",
    "- ActorGeo_fullName Nom de la ville/pays/city\n",
    "- Actor_Geo_CountryCode This is the 2-character FIPS10-4 This is the 2-character FIPS10-4 country code followed by the 2-character FIPS10-4 administrative division(Region?) 1 (ADM1)\n",
    "- Geo_Lat\n",
    "- Geo_Long\n",
    "- Geo_feature Id pas compris mais probablement pas besoin GNS|GNIS code http://www.dlib.org/dlib/september12/leetaru/09leetaru.html\n",
    "\n",
    "### Autre\n",
    "- DateAdded: date ou l'evenement a été ajouter a la database\n",
    "- SourceUrl: l'url de l'article ou l'evenement apparait en premier. peut etre pas exactement le premier a cause du temps de traitement."
   ]
  },
  {
   "cell_type": "code",
   "execution_count": 37,
   "id": "330c67b3",
   "metadata": {},
   "outputs": [
    {
     "data": {
      "text/html": [
       "<div>\n",
       "<style scoped>\n",
       "    .dataframe tbody tr th:only-of-type {\n",
       "        vertical-align: middle;\n",
       "    }\n",
       "\n",
       "    .dataframe tbody tr th {\n",
       "        vertical-align: top;\n",
       "    }\n",
       "\n",
       "    .dataframe thead th {\n",
       "        text-align: right;\n",
       "    }\n",
       "</style>\n",
       "<table border=\"1\" class=\"dataframe\">\n",
       "  <thead>\n",
       "    <tr style=\"text-align: right;\">\n",
       "      <th></th>\n",
       "      <th>id</th>\n",
       "      <th>name</th>\n",
       "    </tr>\n",
       "  </thead>\n",
       "  <tbody>\n",
       "    <tr>\n",
       "      <th>0</th>\n",
       "      <td>1</td>\n",
       "      <td>MAKE PUBLIC STATEMENT</td>\n",
       "    </tr>\n",
       "  </tbody>\n",
       "</table>\n",
       "</div>"
      ],
      "text/plain": [
       "   id                   name\n",
       "0   1  MAKE PUBLIC STATEMENT"
      ]
     },
     "execution_count": 37,
     "metadata": {},
     "output_type": "execute_result"
    }
   ],
   "source": [
    "pd.set_option('display.max_columns', None)\n",
    "data.head(1)\n",
    "cameo.head(1)"
   ]
  }
 ],
 "metadata": {
  "kernelspec": {
   "display_name": "Python 3.9.15 ('dataviz')",
   "language": "python",
   "name": "python3"
  },
  "language_info": {
   "codemirror_mode": {
    "name": "ipython",
    "version": 3
   },
   "file_extension": ".py",
   "mimetype": "text/x-python",
   "name": "python",
   "nbconvert_exporter": "python",
   "pygments_lexer": "ipython3",
   "version": "3.9.15"
  },
  "vscode": {
   "interpreter": {
    "hash": "6f31331ba66cb0039c44a5d6ecfaf745c5b660f6e3cc0377dd89a2db48927b19"
   }
  }
 },
 "nbformat": 4,
 "nbformat_minor": 5
}
